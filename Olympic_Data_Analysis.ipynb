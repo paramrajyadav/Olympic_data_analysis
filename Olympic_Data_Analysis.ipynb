{
 "cells": [
  {
   "cell_type": "code",
   "execution_count": 1,
   "id": "fa4386a3",
   "metadata": {},
   "outputs": [
    {
     "name": "stdout",
     "output_type": "stream",
     "text": [
      "athlete_events\n",
      "noc_regions\n"
     ]
    }
   ],
   "source": [
    "import sqlite3\n",
    "\n",
    "db_file = 'mydatabase11.db'\n",
    "\n",
    "conn = sqlite3.connect(db_file)\n",
    "cursor = conn.cursor()\n",
    "\n",
    "cursor.execute(\"SELECT name FROM sqlite_master WHERE type='table'\")\n",
    "tables = cursor.fetchall()\n",
    "\n",
    "for table in tables:\n",
    "    print(table[0])\n",
    "    \n"
   ]
  },
  {
   "cell_type": "code",
   "execution_count": 2,
   "id": "4bfa9d85",
   "metadata": {},
   "outputs": [],
   "source": [
    "# # removing the duplicate data\n",
    "# #conn.close()\n",
    "# cursor.execute('delete from temp_table3')\n",
    "# conn.commit()"
   ]
  },
  {
   "cell_type": "code",
   "execution_count": 3,
   "id": "63c6d206",
   "metadata": {},
   "outputs": [
    {
     "data": {
      "text/plain": [
       "<sqlite3.Cursor at 0x1abb2f9b3c0>"
      ]
     },
     "execution_count": 3,
     "metadata": {},
     "output_type": "execute_result"
    }
   ],
   "source": [
    "cursor.execute('CREATE TABLE temp_table3 AS SELECT distinct* FROM athlete_events;')\n",
    "cursor.execute('INSERT into temp_table3 SELECT distinct* FROM temp_table3;')\n",
    "cursor.execute('DELETE FROM athlete_events;')\n",
    "cursor.execute('INSERT INTO athlete_events SELECT * FROM temp_table3;')"
   ]
  },
  {
   "cell_type": "code",
   "execution_count": 4,
   "id": "f92685af",
   "metadata": {},
   "outputs": [],
   "source": [
    "# conn.commit()"
   ]
  },
  {
   "cell_type": "code",
   "execution_count": 5,
   "id": "cc16e202",
   "metadata": {},
   "outputs": [
    {
     "name": "stdout",
     "output_type": "stream",
     "text": [
      "[(1, 'A Dijiang', 'M', 24, 180.0, 80.0, 'China', 'CHN', '1992 Summer', 1992, 'Summer', 'Barcelona', 'Basketball', \"Basketball Men's Basketball\", 'NA'), (2, 'A Lamusi', 'M', 23, 170.0, 60.0, 'China', 'CHN', '2012 Summer', 2012, 'Summer', 'London', 'Judo', \"Judo Men's Extra-Lightweight\", 'NA')]\n"
     ]
    }
   ],
   "source": [
    "cursor.execute('select * from athlete_events limit 2')\n",
    "s=cursor.fetchall()\n",
    "print(s)"
   ]
  },
  {
   "cell_type": "code",
   "execution_count": 6,
   "id": "c3cce30c",
   "metadata": {},
   "outputs": [],
   "source": [
    "# How many olympics games have been held?"
   ]
  },
  {
   "cell_type": "code",
   "execution_count": 7,
   "id": "1f31de88",
   "metadata": {},
   "outputs": [
    {
     "name": "stdout",
     "output_type": "stream",
     "text": [
      "[(51,)]\n"
     ]
    }
   ],
   "source": [
    "cursor.execute('Select count(distinct(games)) from athlete_events')\n",
    "data = cursor.fetchall()\n",
    "\n",
    "print(data)"
   ]
  },
  {
   "cell_type": "code",
   "execution_count": 8,
   "id": "5ae453af",
   "metadata": {},
   "outputs": [],
   "source": [
    "# List down all Olympics games held so far."
   ]
  },
  {
   "cell_type": "code",
   "execution_count": 9,
   "id": "219dab96",
   "metadata": {},
   "outputs": [
    {
     "name": "stdout",
     "output_type": "stream",
     "text": [
      "[('1992 Summer',), ('2012 Summer',), ('1920 Summer',), ('1900 Summer',), ('1988 Winter',), ('1992 Winter',), ('1994 Winter',), ('1932 Summer',), ('2002 Winter',), ('1952 Summer',), ('1980 Winter',), ('2000 Summer',), ('1996 Summer',), ('1912 Summer',), ('1924 Summer',), ('2014 Winter',), ('1948 Summer',), ('1998 Winter',), ('2006 Winter',), ('2008 Summer',), ('2016 Summer',), ('2004 Summer',), ('1960 Winter',), ('1964 Winter',), ('1984 Winter',), ('1984 Summer',), ('1968 Summer',), ('1972 Summer',), ('1988 Summer',), ('1936 Summer',), ('1952 Winter',), ('1956 Winter',), ('1956 Summer',), ('1960 Summer',), ('1928 Summer',), ('1976 Summer',), ('1980 Summer',), ('1964 Summer',), ('2010 Winter',), ('1968 Winter',), ('1906 Summer',), ('1972 Winter',), ('1976 Winter',), ('1924 Winter',), ('1904 Summer',), ('1928 Winter',), ('1908 Summer',), ('1948 Winter',), ('1932 Winter',), ('1936 Winter',), ('1896 Summer',)]\n"
     ]
    }
   ],
   "source": [
    "cursor.execute('Select distinct(games) from athlete_events')\n",
    "data = cursor.fetchall()\n",
    "\n",
    "print(data)"
   ]
  },
  {
   "cell_type": "code",
   "execution_count": 10,
   "id": "80d72937",
   "metadata": {},
   "outputs": [],
   "source": [
    "# Mention the total no of nations who participated in each olympics game?"
   ]
  },
  {
   "cell_type": "code",
   "execution_count": 11,
   "id": "3e9634e3",
   "metadata": {},
   "outputs": [
    {
     "name": "stdout",
     "output_type": "stream",
     "text": [
      "[('1896 Summer', 12), ('1900 Summer', 31), ('1904 Summer', 15), ('1906 Summer', 21), ('1908 Summer', 22), ('1912 Summer', 29), ('1920 Summer', 29), ('1924 Summer', 46), ('1928 Summer', 46), ('1932 Summer', 47), ('1936 Summer', 50), ('1948 Summer', 61), ('1952 Summer', 69), ('1956 Winter', 75), ('1960 Winter', 84), ('1964 Winter', 94), ('1968 Summer', 112), ('1972 Summer', 121), ('1976 Summer', 93), ('1980 Winter', 90), ('1984 Winter', 148), ('1988 Winter', 160), ('1992 Summer', 170), ('1994 Winter', 67), ('1996 Summer', 197), ('1998 Winter', 72), ('2000 Summer', 200), ('2002 Winter', 77), ('2004 Summer', 201), ('2006 Winter', 79), ('2008 Summer', 204), ('2010 Winter', 82), ('2012 Summer', 205), ('2014 Winter', 89), ('2016 Summer', 207)]\n"
     ]
    }
   ],
   "source": [
    "cursor.execute('Select games,count(distinct(noc)) from athlete_events group by year')\n",
    "data = cursor.fetchall()\n",
    "\n",
    "print(data)"
   ]
  },
  {
   "cell_type": "code",
   "execution_count": 12,
   "id": "c7284593",
   "metadata": {},
   "outputs": [],
   "source": [
    "# Which year saw the highest and lowest no of countries participating in olympics"
   ]
  },
  {
   "cell_type": "code",
   "execution_count": 13,
   "id": "20ce8c3d",
   "metadata": {},
   "outputs": [
    {
     "name": "stdout",
     "output_type": "stream",
     "text": [
      "[(1896, 12), (2016, 207)]\n"
     ]
    }
   ],
   "source": [
    "cursor.execute('''\n",
    "    SELECT year, COUNT(DISTINCT noc)\n",
    "    FROM athlete_events\n",
    "    GROUP BY year\n",
    "    HAVING COUNT(DISTINCT noc) = (\n",
    "        SELECT COUNT(DISTINCT noc)\n",
    "        FROM athlete_events\n",
    "        GROUP BY year\n",
    "        ORDER BY COUNT(DISTINCT noc) DESC\n",
    "        LIMIT 1\n",
    "    ) OR COUNT(DISTINCT noc) = (\n",
    "        SELECT COUNT(DISTINCT noc)\n",
    "        FROM athlete_events\n",
    "        GROUP BY year\n",
    "        ORDER BY COUNT(DISTINCT noc) ASC\n",
    "        LIMIT 1\n",
    "    )\n",
    "''')\n",
    "\n",
    "data = cursor.fetchall()\n",
    "print(data)"
   ]
  },
  {
   "cell_type": "code",
   "execution_count": 14,
   "id": "35f77c23",
   "metadata": {},
   "outputs": [],
   "source": [
    "# Which nation has participated in all of the olympic games"
   ]
  },
  {
   "cell_type": "code",
   "execution_count": 15,
   "id": "58cc0b67",
   "metadata": {},
   "outputs": [
    {
     "name": "stdout",
     "output_type": "stream",
     "text": [
      "[('France', 51), ('Italy', 51), ('Switzerland', 51), ('UK', 51)]\n"
     ]
    }
   ],
   "source": [
    "cursor.execute('''with tot_games as\n",
    "              (select count(distinct games) as total_games\n",
    "              from athlete_events),\n",
    "          countries as\n",
    "              (select games, nr.region as country\n",
    "              from athlete_events ae\n",
    "              join noc_regions nr ON nr.noc=ae.noc\n",
    "              group by games, nr.region),\n",
    "          countries_participated as\n",
    "              (select country, count(1) as total_participated_games\n",
    "              from countries\n",
    "              group by country)\n",
    "      select cp.*\n",
    "      from countries_participated cp\n",
    "      join tot_games tg on tg.total_games = cp.total_participated_games\n",
    "      order by 1;\n",
    "''')\n",
    "data = cursor.fetchall()\n",
    "\n",
    "print(data)"
   ]
  },
  {
   "cell_type": "code",
   "execution_count": 16,
   "id": "9ef8fd38",
   "metadata": {},
   "outputs": [],
   "source": [
    "#  Identify the sport which was played in all summer olympics"
   ]
  },
  {
   "cell_type": "code",
   "execution_count": 17,
   "id": "1d778b67",
   "metadata": {},
   "outputs": [
    {
     "name": "stdout",
     "output_type": "stream",
     "text": [
      "[('Athletics', 29, 29), ('Cycling', 29, 29), ('Fencing', 29, 29), ('Gymnastics', 29, 29), ('Swimming', 29, 29)]\n"
     ]
    }
   ],
   "source": [
    "cursor.execute('''with t1 as\n",
    "        (select count(distinct games) as total_games\n",
    "          from athlete_events where season = 'Summer'),\n",
    "          t2 as\n",
    "          (select distinct games, sport\n",
    "          from athlete_events where season = 'Summer'),\n",
    "          t3 as\n",
    "          (select sport, count(1) as no_of_games\n",
    "          from t2\n",
    "          group by sport)\n",
    "      select *\n",
    "      from t3\n",
    "      join t1 on t1.total_games = t3.no_of_games;\n",
    "''')\n",
    "data = cursor.fetchall()\n",
    "\n",
    "print(data)"
   ]
  },
  {
   "cell_type": "code",
   "execution_count": 18,
   "id": "4817e28b",
   "metadata": {},
   "outputs": [],
   "source": [
    "#  Which Sports were just played only once in the olympics"
   ]
  },
  {
   "cell_type": "code",
   "execution_count": 19,
   "id": "48f6e738",
   "metadata": {},
   "outputs": [
    {
     "name": "stdout",
     "output_type": "stream",
     "text": [
      "[('Aeronautics', 1, '1936 Summer'), ('Basque Pelota', 1, '1900 Summer'), ('Cricket', 1, '1900 Summer'), ('Croquet', 1, '1900 Summer'), ('Jeu De Paume', 1, '1908 Summer'), ('Military Ski Patrol', 1, '1924 Winter'), ('Motorboating', 1, '1908 Summer'), ('Racquets', 1, '1908 Summer'), ('Roque', 1, '1904 Summer'), ('Rugby Sevens', 1, '2016 Summer')]\n"
     ]
    }
   ],
   "source": [
    "cursor.execute('''with t1 as\n",
    "          (select distinct games, sport\n",
    "          from athlete_events),\n",
    "          t2 as\n",
    "          (select sport, count(1) as no_of_games\n",
    "          from t1\n",
    "          group by sport)\n",
    "      select t2.*, t1.games\n",
    "      from t2\n",
    "      join t1 on t1.sport = t2.sport\n",
    "      where t2.no_of_games = 1\n",
    "      order by t1.sport\n",
    ";\n",
    "''')\n",
    "data = cursor.fetchall()\n",
    "\n",
    "print(data)"
   ]
  },
  {
   "cell_type": "code",
   "execution_count": 20,
   "id": "e77d0857",
   "metadata": {},
   "outputs": [],
   "source": [
    "# Fetch the total no of sports played in each olympic games"
   ]
  },
  {
   "cell_type": "code",
   "execution_count": 21,
   "id": "712f6ab7",
   "metadata": {},
   "outputs": [
    {
     "name": "stdout",
     "output_type": "stream",
     "text": [
      "[('2000 Summer', 34), ('2004 Summer', 34), ('2008 Summer', 34), ('2016 Summer', 34), ('2012 Summer', 32), ('1996 Summer', 31), ('1992 Summer', 29), ('1988 Summer', 27), ('1920 Summer', 25), ('1984 Summer', 25), ('1908 Summer', 24), ('1936 Summer', 24), ('1972 Summer', 23), ('1976 Summer', 23), ('1980 Summer', 23), ('1964 Summer', 21), ('1900 Summer', 20), ('1924 Summer', 20), ('1948 Summer', 20), ('1968 Summer', 20), ('1952 Summer', 19), ('1956 Summer', 19), ('1960 Summer', 19), ('1904 Summer', 18), ('1932 Summer', 18), ('1912 Summer', 17), ('1928 Summer', 17), ('2002 Winter', 15), ('2006 Winter', 15), ('2010 Winter', 15), ('2014 Winter', 15), ('1998 Winter', 14), ('1906 Summer', 13), ('1992 Winter', 12), ('1994 Winter', 12), ('1924 Winter', 10), ('1964 Winter', 10), ('1968 Winter', 10), ('1972 Winter', 10), ('1976 Winter', 10), ('1980 Winter', 10), ('1984 Winter', 10), ('1988 Winter', 10), ('1896 Summer', 9), ('1948 Winter', 9), ('1928 Winter', 8), ('1936 Winter', 8), ('1952 Winter', 8), ('1956 Winter', 8), ('1960 Winter', 8), ('1932 Winter', 7)]\n"
     ]
    }
   ],
   "source": [
    "cursor.execute('''  with t1 as\n",
    "      (select distinct games, sport\n",
    "      from athlete_events),\n",
    "        t2 as\n",
    "      (select games, count(1) as no_of_sports\n",
    "      from t1\n",
    "      group by games)\n",
    "      select * from t2\n",
    "      order by no_of_sports desc;\n",
    "''')\n",
    "data = cursor.fetchall()\n",
    "\n",
    "print(data)"
   ]
  },
  {
   "cell_type": "code",
   "execution_count": 43,
   "id": "dcfa726d",
   "metadata": {},
   "outputs": [],
   "source": [
    "#  Fetch the top 5 athletes who have won the most gold medals."
   ]
  },
  {
   "cell_type": "code",
   "execution_count": 44,
   "id": "ecac39e7",
   "metadata": {},
   "outputs": [
    {
     "name": "stdout",
     "output_type": "stream",
     "text": [
      "[('Michael Fred Phelps, II', 'United States', 46), ('Raymond Clarence \"Ray\" Ewry', 'United States', 20), ('Frederick Carlton \"Carl\" Lewis', 'United States', 18), ('Larysa Semenivna Latynina (Diriy-)', 'Soviet Union', 18), ('Mark Andrew Spitz', 'United States', 18), ('Paavo Johannes Nurmi', 'Finland', 18), ('Jennifer Elisabeth \"Jenny\" Thompson (-Cumpelik)', 'United States', 16), ('Matthew Nicholas \"Matt\" Biondi', 'United States', 16), ('Ole Einar Bjrndalen', 'Norway', 16), ('Sawao Kato', 'Japan', 16), ('Usain St. Leo Bolt', 'Jamaica', 16), ('Aladr Gerevich (-Gerei)', 'Hungary', 14), ('Borys Anfiyanovych Shakhlin', 'Soviet Union', 14), ('Donald Arthur \"Don\" Schollander', 'United States', 14), ('Nikolay Yefimovich Andrianov', 'Soviet Union', 14), ('Viktor Ivanovych Chukarin', 'Soviet Union', 14), ('Vra slavsk (-Odloilov)', 'Czechoslovakia', 14)]\n"
     ]
    }
   ],
   "source": [
    "cursor.execute('''\n",
    " with t1 as\n",
    "            (select name, team, count(1) as total_gold_medals\n",
    "            from athlete_events\n",
    "            where medal = 'Gold'\n",
    "            group by name, team\n",
    "            order by total_gold_medals desc),\n",
    "        t2 as\n",
    "            (select *, dense_rank() over (order by total_gold_medals desc) as rnk\n",
    "            from t1)\n",
    "    select name, team, total_gold_medals\n",
    "    from t2\n",
    "    where rnk <= 5;\n",
    "\n",
    "''')\n",
    "\n",
    "data = cursor.fetchall()\n",
    "\n",
    "print(data)"
   ]
  },
  {
   "cell_type": "code",
   "execution_count": 45,
   "id": "1082f64b",
   "metadata": {},
   "outputs": [],
   "source": [
    "# Fetch the top 5 athletes who have won the most medals (gold/silver/bronze)"
   ]
  },
  {
   "cell_type": "code",
   "execution_count": 47,
   "id": "f0fdbba5",
   "metadata": {},
   "outputs": [
    {
     "name": "stdout",
     "output_type": "stream",
     "text": [
      "[('Michael Fred Phelps, II', 'United States', 56), ('Larysa Semenivna Latynina (Diriy-)', 'Soviet Union', 36), ('Nikolay Yefimovich Andrianov', 'Soviet Union', 30), ('Borys Anfiyanovych Shakhlin', 'Soviet Union', 26), ('Edoardo Mangiarotti', 'Italy', 26), ('Ole Einar Bjrndalen', 'Norway', 26), ('Takashi Ono', 'Japan', 26), ('Aleksey Yuryevich Nemov', 'Russia', 24), ('Dara Grace Torres (-Hoffman, -Minas)', 'United States', 24), ('Jennifer Elisabeth \"Jenny\" Thompson (-Cumpelik)', 'United States', 24), ('Natalie Anne Coughlin (-Hall)', 'United States', 24), ('Paavo Johannes Nurmi', 'Finland', 24), ('Ryan Steven Lochte', 'United States', 24), ('Sawao Kato', 'Japan', 24)]\n"
     ]
    }
   ],
   "source": [
    "cursor.execute('''\n",
    "with t1 as\n",
    "            (select name, team, count(1) as total_medals\n",
    "            from athlete_events\n",
    "            where medal in ('Gold', 'Silver', 'Bronze')\n",
    "            group by name, team\n",
    "            order by total_medals desc),\n",
    "        t2 as\n",
    "            (select *, dense_rank() over (order by total_medals desc) as rnk\n",
    "            from t1)\n",
    "    select name, team, total_medals\n",
    "    from t2\n",
    "    where rnk <= 5;\n",
    "\n",
    "\n",
    "''')\n",
    "\n",
    "data = cursor.fetchall()\n",
    "\n",
    "print(data)"
   ]
  },
  {
   "cell_type": "code",
   "execution_count": 48,
   "id": "1ceec314",
   "metadata": {},
   "outputs": [],
   "source": [
    "# In which Sport/event, India has won highest medals."
   ]
  },
  {
   "cell_type": "code",
   "execution_count": 49,
   "id": "d84ac5fb",
   "metadata": {},
   "outputs": [
    {
     "name": "stdout",
     "output_type": "stream",
     "text": [
      "[('Hockey', 346)]\n"
     ]
    }
   ],
   "source": [
    "cursor.execute('''with t1 as\n",
    "        (select sport, count(1) as total_medals\n",
    "        from athlete_events\n",
    "        where medal <> 'NA'\n",
    "        and team = 'India'\n",
    "        group by sport\n",
    "        order by total_medals desc),\n",
    "        t2 as\n",
    "        (select *, rank() over(order by total_medals desc) as rnk\n",
    "        from t1)\n",
    "    select sport, total_medals\n",
    "    from t2\n",
    "    where rnk = 1;\n",
    "\n",
    "\n",
    "''')\n",
    "\n",
    "data = cursor.fetchall()\n",
    "\n",
    "print(data)"
   ]
  },
  {
   "cell_type": "code",
   "execution_count": 50,
   "id": "5865485b",
   "metadata": {},
   "outputs": [],
   "source": [
    "# Break down all olympic games where India won medal for Hockey and how many medals in each olympic games"
   ]
  },
  {
   "cell_type": "code",
   "execution_count": 52,
   "id": "942b740c",
   "metadata": {},
   "outputs": [
    {
     "name": "stdout",
     "output_type": "stream",
     "text": [
      "[('India', 'Hockey', '1948 Summer', 40), ('India', 'Hockey', '1936 Summer', 38), ('India', 'Hockey', '1956 Summer', 34), ('India', 'Hockey', '1968 Summer', 32), ('India', 'Hockey', '1980 Summer', 32), ('India', 'Hockey', '1932 Summer', 30), ('India', 'Hockey', '1964 Summer', 30), ('India', 'Hockey', '1928 Summer', 28), ('India', 'Hockey', '1952 Summer', 28), ('India', 'Hockey', '1972 Summer', 28), ('India', 'Hockey', '1960 Summer', 26)]\n"
     ]
    }
   ],
   "source": [
    "cursor.execute('''\n",
    "select team, sport, games, count(1) as total_medals\n",
    "    from athlete_events\n",
    "    where medal <> 'NA'\n",
    "    and team = 'India' and sport = 'Hockey'\n",
    "    group by team, sport, games\n",
    "    order by total_medals desc;\n",
    "\n",
    "''')\n",
    "\n",
    "data = cursor.fetchall()\n",
    "\n",
    "print(data)"
   ]
  },
  {
   "cell_type": "code",
   "execution_count": 53,
   "id": "f8c410f6",
   "metadata": {},
   "outputs": [],
   "source": [
    "# Identify which country won the most gold, most silver and most bronze medals in each olympic games"
   ]
  },
  {
   "cell_type": "code",
   "execution_count": 57,
   "id": "7f712410",
   "metadata": {},
   "outputs": [
    {
     "ename": "OperationalError",
     "evalue": "near \"(\": syntax error",
     "output_type": "error",
     "traceback": [
      "\u001b[1;31m---------------------------------------------------------------------------\u001b[0m",
      "\u001b[1;31mOperationalError\u001b[0m                          Traceback (most recent call last)",
      "Cell \u001b[1;32mIn[57], line 1\u001b[0m\n\u001b[1;32m----> 1\u001b[0m \u001b[43mcursor\u001b[49m\u001b[38;5;241;43m.\u001b[39;49m\u001b[43mexecute\u001b[49m\u001b[43m(\u001b[49m\u001b[43m \u001b[49m\u001b[38;5;124;43m\"\"\"\u001b[39;49m\n\u001b[0;32m      2\u001b[0m \u001b[38;5;124;43m    WITH temp AS (\u001b[39;49m\n\u001b[0;32m      3\u001b[0m \u001b[38;5;124;43m        SELECT substring(games, 1, position(\u001b[39;49m\u001b[38;5;124;43m'\u001b[39;49m\u001b[38;5;124;43m - \u001b[39;49m\u001b[38;5;124;43m'\u001b[39;49m\u001b[38;5;124;43m IN games) - 1) AS games,\u001b[39;49m\n\u001b[0;32m      4\u001b[0m \u001b[38;5;124;43m               substring(games, position(\u001b[39;49m\u001b[38;5;124;43m'\u001b[39;49m\u001b[38;5;124;43m - \u001b[39;49m\u001b[38;5;124;43m'\u001b[39;49m\u001b[38;5;124;43m IN games) + 3) AS country,\u001b[39;49m\n\u001b[0;32m      5\u001b[0m \u001b[38;5;124;43m               coalesce(gold, 0) AS gold,\u001b[39;49m\n\u001b[0;32m      6\u001b[0m \u001b[38;5;124;43m               coalesce(silver, 0) AS silver,\u001b[39;49m\n\u001b[0;32m      7\u001b[0m \u001b[38;5;124;43m               coalesce(bronze, 0) AS bronze\u001b[39;49m\n\u001b[0;32m      8\u001b[0m \u001b[38;5;124;43m        FROM CROSSTAB(\u001b[39;49m\n\u001b[0;32m      9\u001b[0m \u001b[38;5;124;43m            \u001b[39;49m\u001b[38;5;124;43m'\u001b[39;49m\u001b[38;5;124;43mSELECT concat(games, \u001b[39;49m\u001b[38;5;124;43m'\u001b[39;49m\u001b[38;5;124;43m'\u001b[39;49m\u001b[38;5;124;43m - \u001b[39;49m\u001b[38;5;124;43m'\u001b[39;49m\u001b[38;5;124;43m'\u001b[39;49m\u001b[38;5;124;43m, nr.region) AS games,\u001b[39;49m\n\u001b[0;32m     10\u001b[0m \u001b[38;5;124;43m                    medal,\u001b[39;49m\n\u001b[0;32m     11\u001b[0m \u001b[38;5;124;43m                    count(1) AS total_medals\u001b[39;49m\n\u001b[0;32m     12\u001b[0m \u001b[38;5;124;43m             FROM athlete_events oh\u001b[39;49m\n\u001b[0;32m     13\u001b[0m \u001b[38;5;124;43m             JOIN noc_regions nr ON nr.noc = oh.noc\u001b[39;49m\n\u001b[0;32m     14\u001b[0m \u001b[38;5;124;43m             WHERE medal <> \u001b[39;49m\u001b[38;5;124;43m'\u001b[39;49m\u001b[38;5;124;43m'\u001b[39;49m\u001b[38;5;124;43mNA\u001b[39;49m\u001b[38;5;124;43m'\u001b[39;49m\u001b[38;5;124;43m'\u001b[39;49m\n\u001b[0;32m     15\u001b[0m \u001b[38;5;124;43m             GROUP BY games, nr.region, medal\u001b[39;49m\n\u001b[0;32m     16\u001b[0m \u001b[38;5;124;43m             ORDER BY games, medal\u001b[39;49m\u001b[38;5;124;43m'\u001b[39;49m\u001b[38;5;124;43m,\u001b[39;49m\n\u001b[0;32m     17\u001b[0m \u001b[38;5;124;43m            \u001b[39;49m\u001b[38;5;124;43m'\u001b[39;49m\u001b[38;5;124;43mVALUES (\u001b[39;49m\u001b[38;5;124;43m'\u001b[39;49m\u001b[38;5;124;43m'\u001b[39;49m\u001b[38;5;124;43mBronze\u001b[39;49m\u001b[38;5;124;43m'\u001b[39;49m\u001b[38;5;124;43m'\u001b[39;49m\u001b[38;5;124;43m), (\u001b[39;49m\u001b[38;5;124;43m'\u001b[39;49m\u001b[38;5;124;43m'\u001b[39;49m\u001b[38;5;124;43mGold\u001b[39;49m\u001b[38;5;124;43m'\u001b[39;49m\u001b[38;5;124;43m'\u001b[39;49m\u001b[38;5;124;43m), (\u001b[39;49m\u001b[38;5;124;43m'\u001b[39;49m\u001b[38;5;124;43m'\u001b[39;49m\u001b[38;5;124;43mSilver\u001b[39;49m\u001b[38;5;124;43m'\u001b[39;49m\u001b[38;5;124;43m'\u001b[39;49m\u001b[38;5;124;43m)\u001b[39;49m\u001b[38;5;124;43m'\u001b[39;49m\n\u001b[0;32m     18\u001b[0m \u001b[38;5;124;43m        ) AS FINAL_RESULT(games text, bronze bigint, gold bigint, silver bigint)\u001b[39;49m\n\u001b[0;32m     19\u001b[0m \u001b[38;5;124;43m    ),\u001b[39;49m\n\u001b[0;32m     20\u001b[0m \u001b[38;5;124;43m    tot_medals AS (\u001b[39;49m\n\u001b[0;32m     21\u001b[0m \u001b[38;5;124;43m        SELECT games,\u001b[39;49m\n\u001b[0;32m     22\u001b[0m \u001b[38;5;124;43m               nr.region AS country,\u001b[39;49m\n\u001b[0;32m     23\u001b[0m \u001b[38;5;124;43m               count(1) AS total_medals\u001b[39;49m\n\u001b[0;32m     24\u001b[0m \u001b[38;5;124;43m        FROM athlete_events oh\u001b[39;49m\n\u001b[0;32m     25\u001b[0m \u001b[38;5;124;43m        JOIN noc_regions nr ON nr.noc = oh.noc\u001b[39;49m\n\u001b[0;32m     26\u001b[0m \u001b[38;5;124;43m        WHERE medal <> \u001b[39;49m\u001b[38;5;124;43m'\u001b[39;49m\u001b[38;5;124;43mNA\u001b[39;49m\u001b[38;5;124;43m'\u001b[39;49m\n\u001b[0;32m     27\u001b[0m \u001b[38;5;124;43m        GROUP BY games, nr.region\u001b[39;49m\n\u001b[0;32m     28\u001b[0m \u001b[38;5;124;43m        ORDER BY 1, 2\u001b[39;49m\n\u001b[0;32m     29\u001b[0m \u001b[38;5;124;43m    )\u001b[39;49m\n\u001b[0;32m     30\u001b[0m \u001b[38;5;124;43m    SELECT DISTINCT t.games,\u001b[39;49m\n\u001b[0;32m     31\u001b[0m \u001b[38;5;124;43m           concat(first_value(t.country) OVER (PARTITION BY t.games ORDER BY gold DESC),\u001b[39;49m\n\u001b[0;32m     32\u001b[0m \u001b[38;5;124;43m                  \u001b[39;49m\u001b[38;5;124;43m'\u001b[39;49m\u001b[38;5;124;43m - \u001b[39;49m\u001b[38;5;124;43m'\u001b[39;49m\u001b[38;5;124;43m,\u001b[39;49m\n\u001b[0;32m     33\u001b[0m \u001b[38;5;124;43m                  first_value(t.gold) OVER (PARTITION BY t.games ORDER BY gold DESC)) AS Max_Gold,\u001b[39;49m\n\u001b[0;32m     34\u001b[0m \u001b[38;5;124;43m           concat(first_value(t.country) OVER (PARTITION BY t.games ORDER BY silver DESC),\u001b[39;49m\n\u001b[0;32m     35\u001b[0m \u001b[38;5;124;43m                  \u001b[39;49m\u001b[38;5;124;43m'\u001b[39;49m\u001b[38;5;124;43m - \u001b[39;49m\u001b[38;5;124;43m'\u001b[39;49m\u001b[38;5;124;43m,\u001b[39;49m\n\u001b[0;32m     36\u001b[0m \u001b[38;5;124;43m                  first_value(t.silver) OVER (PARTITION BY t.games ORDER BY silver DESC)) AS Max_Silver,\u001b[39;49m\n\u001b[0;32m     37\u001b[0m \u001b[38;5;124;43m           concat(first_value(t.country) OVER (PARTITION BY t.games ORDER BY bronze DESC),\u001b[39;49m\n\u001b[0;32m     38\u001b[0m \u001b[38;5;124;43m                  \u001b[39;49m\u001b[38;5;124;43m'\u001b[39;49m\u001b[38;5;124;43m - \u001b[39;49m\u001b[38;5;124;43m'\u001b[39;49m\u001b[38;5;124;43m,\u001b[39;49m\n\u001b[0;32m     39\u001b[0m \u001b[38;5;124;43m                  first_value(t.bronze) OVER (PARTITION BY t.games ORDER BY bronze DESC)) AS Max_Bronze,\u001b[39;49m\n\u001b[0;32m     40\u001b[0m \u001b[38;5;124;43m           concat(first_value(tm.country) OVER (PARTITION BY tm.games ORDER BY total_medals DESC NULLS LAST),\u001b[39;49m\n\u001b[0;32m     41\u001b[0m \u001b[38;5;124;43m                  \u001b[39;49m\u001b[38;5;124;43m'\u001b[39;49m\u001b[38;5;124;43m - \u001b[39;49m\u001b[38;5;124;43m'\u001b[39;49m\u001b[38;5;124;43m,\u001b[39;49m\n\u001b[0;32m     42\u001b[0m \u001b[38;5;124;43m                  first_value(tm.total_medals) OVER (PARTITION BY tm.games ORDER BY total_medals DESC NULLS LAST)) AS Max_Medals\u001b[39;49m\n\u001b[0;32m     43\u001b[0m \u001b[38;5;124;43m    FROM temp t\u001b[39;49m\n\u001b[0;32m     44\u001b[0m \u001b[38;5;124;43m    JOIN tot_medals tm ON tm.games = t.games AND tm.country = t.country\u001b[39;49m\n\u001b[0;32m     45\u001b[0m \u001b[38;5;124;43m    ORDER BY games;\u001b[39;49m\n\u001b[0;32m     46\u001b[0m \u001b[38;5;124;43m\"\"\"\u001b[39;49m\u001b[43m)\u001b[49m\n\u001b[0;32m     49\u001b[0m results \u001b[38;5;241m=\u001b[39m cursor\u001b[38;5;241m.\u001b[39mfetchall()\n\u001b[0;32m     51\u001b[0m \u001b[38;5;66;03m# Print the results\u001b[39;00m\n",
      "\u001b[1;31mOperationalError\u001b[0m: near \"(\": syntax error"
     ]
    }
   ],
   "source": [
    "cursor.execute( \"\"\"\n",
    "    WITH temp AS (\n",
    "        SELECT substring(games, 1, position(' - ' IN games) - 1) AS games,\n",
    "               substring(games, position(' - ' IN games) + 3) AS country,\n",
    "               coalesce(gold, 0) AS gold,\n",
    "               coalesce(silver, 0) AS silver,\n",
    "               coalesce(bronze, 0) AS bronze\n",
    "        FROM CROSSTAB(\n",
    "            'SELECT concat(games, '' - '', nr.region) AS games,\n",
    "                    medal,\n",
    "                    count(1) AS total_medals\n",
    "             FROM athlete_events oh\n",
    "             JOIN noc_regions nr ON nr.noc = oh.noc\n",
    "             WHERE medal <> ''NA''\n",
    "             GROUP BY games, nr.region, medal\n",
    "             ORDER BY games, medal',\n",
    "            'VALUES (''Bronze''), (''Gold''), (''Silver'')'\n",
    "        ) AS FINAL_RESULT(games text, bronze bigint, gold bigint, silver bigint)\n",
    "    ),\n",
    "    tot_medals AS (\n",
    "        SELECT games,\n",
    "               nr.region AS country,\n",
    "               count(1) AS total_medals\n",
    "        FROM athlete_events oh\n",
    "        JOIN noc_regions nr ON nr.noc = oh.noc\n",
    "        WHERE medal <> 'NA'\n",
    "        GROUP BY games, nr.region\n",
    "        ORDER BY 1, 2\n",
    "    )\n",
    "    SELECT DISTINCT t.games,\n",
    "           concat(first_value(t.country) OVER (PARTITION BY t.games ORDER BY gold DESC),\n",
    "                  ' - ',\n",
    "                  first_value(t.gold) OVER (PARTITION BY t.games ORDER BY gold DESC)) AS Max_Gold,\n",
    "           concat(first_value(t.country) OVER (PARTITION BY t.games ORDER BY silver DESC),\n",
    "                  ' - ',\n",
    "                  first_value(t.silver) OVER (PARTITION BY t.games ORDER BY silver DESC)) AS Max_Silver,\n",
    "           concat(first_value(t.country) OVER (PARTITION BY t.games ORDER BY bronze DESC),\n",
    "                  ' - ',\n",
    "                  first_value(t.bronze) OVER (PARTITION BY t.games ORDER BY bronze DESC)) AS Max_Bronze,\n",
    "           concat(first_value(tm.country) OVER (PARTITION BY tm.games ORDER BY total_medals DESC NULLS LAST),\n",
    "                  ' - ',\n",
    "                  first_value(tm.total_medals) OVER (PARTITION BY tm.games ORDER BY total_medals DESC NULLS LAST)) AS Max_Medals\n",
    "    FROM temp t\n",
    "    JOIN tot_medals tm ON tm.games = t.games AND tm.country = t.country\n",
    "    ORDER BY games;\n",
    "\"\"\")\n",
    "\n",
    "\n",
    "results = cursor.fetchall()\n",
    "\n",
    "# Print the results\n",
    "for row in results:\n",
    "    print(row)\n",
    "\n",
    "# Close the cursor and connection\n",
    "cursor.close()\n",
    "connection.close()\n"
   ]
  },
  {
   "cell_type": "code",
   "execution_count": null,
   "id": "f0075d88",
   "metadata": {},
   "outputs": [],
   "source": []
  }
 ],
 "metadata": {
  "kernelspec": {
   "display_name": "Python 3 (ipykernel)",
   "language": "python",
   "name": "python3"
  },
  "language_info": {
   "codemirror_mode": {
    "name": "ipython",
    "version": 3
   },
   "file_extension": ".py",
   "mimetype": "text/x-python",
   "name": "python",
   "nbconvert_exporter": "python",
   "pygments_lexer": "ipython3",
   "version": "3.10.9"
  }
 },
 "nbformat": 4,
 "nbformat_minor": 5
}
