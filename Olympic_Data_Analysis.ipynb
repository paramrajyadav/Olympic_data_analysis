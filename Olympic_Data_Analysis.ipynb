{
 "cells": [
  {
   "cell_type": "code",
   "execution_count": 66,
   "id": "fa4386a3",
   "metadata": {},
   "outputs": [
    {
     "name": "stdout",
     "output_type": "stream",
     "text": [
      "athlete_events\n",
      "noc_regions\n"
     ]
    }
   ],
   "source": [
    "import sqlite3\n",
    "\n",
    "db_file = 'mydatabase9.db'\n",
    "\n",
    "conn = sqlite3.connect(db_file)\n",
    "cursor = conn.cursor()\n",
    "\n",
    "cursor.execute(\"SELECT name FROM sqlite_master WHERE type='table'\")\n",
    "tables = cursor.fetchall()\n",
    "\n",
    "for table in tables:\n",
    "    print(table[0])\n",
    "    \n"
   ]
  },
  {
   "cell_type": "code",
   "execution_count": 63,
   "id": "4bfa9d85",
   "metadata": {},
   "outputs": [],
   "source": [
    "# # removing the duplicate data\n",
    "# #conn.close()\n",
    "# cursor.execute('delete from temp_table3')\n",
    "# conn.commit()"
   ]
  },
  {
   "cell_type": "code",
   "execution_count": 67,
   "id": "63c6d206",
   "metadata": {},
   "outputs": [
    {
     "data": {
      "text/plain": [
       "<sqlite3.Cursor at 0x1c8abe13e40>"
      ]
     },
     "execution_count": 67,
     "metadata": {},
     "output_type": "execute_result"
    }
   ],
   "source": [
    "cursor.execute('CREATE TABLE temp_table3 AS SELECT distinct* FROM athlete_events;')\n",
    "cursor.execute('INSERT into temp_table3 SELECT distinct* FROM temp_table3;')\n",
    "cursor.execute('DELETE FROM athlete_events;')\n",
    "cursor.execute('INSERT INTO athlete_events SELECT * FROM temp_table3;')"
   ]
  },
  {
   "cell_type": "code",
   "execution_count": 58,
   "id": "f92685af",
   "metadata": {},
   "outputs": [],
   "source": [
    "# conn.commit()"
   ]
  },
  {
   "cell_type": "code",
   "execution_count": 68,
   "id": "cc16e202",
   "metadata": {},
   "outputs": [
    {
     "name": "stdout",
     "output_type": "stream",
     "text": [
      "[(1, 'A Dijiang', 'M', 24, 180.0, 80.0, 'China', 'CHN', '1992 Summer', 1992, 'Summer', 'Barcelona', 'Basketball', \"Basketball Men's Basketball\", 'NA'), (2, 'A Lamusi', 'M', 23, 170.0, 60.0, 'China', 'CHN', '2012 Summer', 2012, 'Summer', 'London', 'Judo', \"Judo Men's Extra-Lightweight\", 'NA')]\n"
     ]
    }
   ],
   "source": [
    "cursor.execute('select * from athlete_events limit 2')\n",
    "s=cursor.fetchall()\n",
    "print(s)"
   ]
  },
  {
   "cell_type": "code",
   "execution_count": 17,
   "id": "c3cce30c",
   "metadata": {},
   "outputs": [],
   "source": [
    "# How many olympics games have been held?"
   ]
  },
  {
   "cell_type": "code",
   "execution_count": 73,
   "id": "1f31de88",
   "metadata": {},
   "outputs": [
    {
     "name": "stdout",
     "output_type": "stream",
     "text": [
      "[(51,)]\n"
     ]
    }
   ],
   "source": [
    "cursor.execute('Select count(distinct(games)) from athlete_events')\n",
    "data = cursor.fetchall()\n",
    "\n",
    "print(data)"
   ]
  },
  {
   "cell_type": "code",
   "execution_count": 74,
   "id": "5ae453af",
   "metadata": {},
   "outputs": [],
   "source": [
    "# List down all Olympics games held so far."
   ]
  },
  {
   "cell_type": "code",
   "execution_count": 75,
   "id": "219dab96",
   "metadata": {},
   "outputs": [
    {
     "name": "stdout",
     "output_type": "stream",
     "text": [
      "[('1992 Summer',), ('2012 Summer',), ('1920 Summer',), ('1900 Summer',), ('1988 Winter',), ('1992 Winter',), ('1994 Winter',), ('1932 Summer',), ('2002 Winter',), ('1952 Summer',), ('1980 Winter',), ('2000 Summer',), ('1996 Summer',), ('1912 Summer',), ('1924 Summer',), ('2014 Winter',), ('1948 Summer',), ('1998 Winter',), ('2006 Winter',), ('2008 Summer',), ('2016 Summer',), ('2004 Summer',), ('1960 Winter',), ('1964 Winter',), ('1984 Winter',), ('1984 Summer',), ('1968 Summer',), ('1972 Summer',), ('1988 Summer',), ('1936 Summer',), ('1952 Winter',), ('1956 Winter',), ('1956 Summer',), ('1960 Summer',), ('1928 Summer',), ('1976 Summer',), ('1980 Summer',), ('1964 Summer',), ('2010 Winter',), ('1968 Winter',), ('1906 Summer',), ('1972 Winter',), ('1976 Winter',), ('1924 Winter',), ('1904 Summer',), ('1928 Winter',), ('1908 Summer',), ('1948 Winter',), ('1932 Winter',), ('1936 Winter',), ('1896 Summer',)]\n"
     ]
    }
   ],
   "source": [
    "cursor.execute('Select distinct(games) from athlete_events')\n",
    "data = cursor.fetchall()\n",
    "\n",
    "print(data)"
   ]
  },
  {
   "cell_type": "code",
   "execution_count": 76,
   "id": "80d72937",
   "metadata": {},
   "outputs": [],
   "source": [
    "# Mention the total no of nations who participated in each olympics game?"
   ]
  },
  {
   "cell_type": "code",
   "execution_count": 78,
   "id": "3e9634e3",
   "metadata": {},
   "outputs": [
    {
     "name": "stdout",
     "output_type": "stream",
     "text": [
      "[('1896 Summer', 12), ('1900 Summer', 31), ('1904 Summer', 15), ('1906 Summer', 21), ('1908 Summer', 22), ('1912 Summer', 29), ('1920 Summer', 29), ('1924 Summer', 46), ('1928 Summer', 46), ('1932 Summer', 47), ('1936 Summer', 50), ('1948 Summer', 61), ('1952 Summer', 69), ('1956 Winter', 75), ('1960 Winter', 84), ('1964 Winter', 94), ('1968 Summer', 112), ('1972 Summer', 121), ('1976 Summer', 93), ('1980 Winter', 90), ('1984 Winter', 148), ('1988 Winter', 160), ('1992 Summer', 170), ('1994 Winter', 67), ('1996 Summer', 197), ('1998 Winter', 72), ('2000 Summer', 200), ('2002 Winter', 77), ('2004 Summer', 201), ('2006 Winter', 79), ('2008 Summer', 204), ('2010 Winter', 82), ('2012 Summer', 205), ('2014 Winter', 89), ('2016 Summer', 207)]\n"
     ]
    }
   ],
   "source": [
    "cursor.execute('Select games,count(distinct(noc)) from athlete_events group by year')\n",
    "data = cursor.fetchall()\n",
    "\n",
    "print(data)"
   ]
  },
  {
   "cell_type": "code",
   "execution_count": 79,
   "id": "c7284593",
   "metadata": {},
   "outputs": [],
   "source": [
    "# Which year saw the highest and lowest no of countries participating in olympics"
   ]
  },
  {
   "cell_type": "code",
   "execution_count": 103,
   "id": "20ce8c3d",
   "metadata": {},
   "outputs": [
    {
     "name": "stdout",
     "output_type": "stream",
     "text": [
      "[(1896, 12), (2016, 207)]\n"
     ]
    }
   ],
   "source": [
    "cursor.execute('''\n",
    "    SELECT year, COUNT(DISTINCT noc)\n",
    "    FROM athlete_events\n",
    "    GROUP BY year\n",
    "    HAVING COUNT(DISTINCT noc) = (\n",
    "        SELECT COUNT(DISTINCT noc)\n",
    "        FROM athlete_events\n",
    "        GROUP BY year\n",
    "        ORDER BY COUNT(DISTINCT noc) DESC\n",
    "        LIMIT 1\n",
    "    ) OR COUNT(DISTINCT noc) = (\n",
    "        SELECT COUNT(DISTINCT noc)\n",
    "        FROM athlete_events\n",
    "        GROUP BY year\n",
    "        ORDER BY COUNT(DISTINCT noc) ASC\n",
    "        LIMIT 1\n",
    "    )\n",
    "''')\n",
    "\n",
    "data = cursor.fetchall()\n",
    "print(data)"
   ]
  },
  {
   "cell_type": "code",
   "execution_count": 104,
   "id": "35f77c23",
   "metadata": {},
   "outputs": [],
   "source": [
    "# Which nation has participated in all of the olympic games"
   ]
  },
  {
   "cell_type": "code",
   "execution_count": 140,
   "id": "58cc0b67",
   "metadata": {},
   "outputs": [
    {
     "name": "stdout",
     "output_type": "stream",
     "text": [
      "[('France', 51), ('Italy', 51), ('Switzerland', 51), ('UK', 51)]\n"
     ]
    }
   ],
   "source": [
    "cursor.execute('''with tot_games as\n",
    "              (select count(distinct games) as total_games\n",
    "              from athlete_events),\n",
    "          countries as\n",
    "              (select games, nr.region as country\n",
    "              from athlete_events ae\n",
    "              join noc_regions nr ON nr.noc=ae.noc\n",
    "              group by games, nr.region),\n",
    "          countries_participated as\n",
    "              (select country, count(1) as total_participated_games\n",
    "              from countries\n",
    "              group by country)\n",
    "      select cp.*\n",
    "      from countries_participated cp\n",
    "      join tot_games tg on tg.total_games = cp.total_participated_games\n",
    "      order by 1;\n",
    "''')\n",
    "data = cursor.fetchall()\n",
    "\n",
    "print(data)"
   ]
  },
  {
   "cell_type": "code",
   "execution_count": 141,
   "id": "9ef8fd38",
   "metadata": {},
   "outputs": [],
   "source": [
    "#  Identify the sport which was played in all summer olympics"
   ]
  },
  {
   "cell_type": "code",
   "execution_count": 142,
   "id": "1d778b67",
   "metadata": {},
   "outputs": [
    {
     "name": "stdout",
     "output_type": "stream",
     "text": [
      "[('Athletics', 29, 29), ('Cycling', 29, 29), ('Fencing', 29, 29), ('Gymnastics', 29, 29), ('Swimming', 29, 29)]\n"
     ]
    }
   ],
   "source": [
    "cursor.execute('''with t1 as\n",
    "        (select count(distinct games) as total_games\n",
    "          from athlete_events where season = 'Summer'),\n",
    "          t2 as\n",
    "          (select distinct games, sport\n",
    "          from athlete_events where season = 'Summer'),\n",
    "          t3 as\n",
    "          (select sport, count(1) as no_of_games\n",
    "          from t2\n",
    "          group by sport)\n",
    "      select *\n",
    "      from t3\n",
    "      join t1 on t1.total_games = t3.no_of_games;\n",
    "''')\n",
    "data = cursor.fetchall()\n",
    "\n",
    "print(data)"
   ]
  },
  {
   "cell_type": "code",
   "execution_count": 143,
   "id": "4817e28b",
   "metadata": {},
   "outputs": [],
   "source": [
    "#  Which Sports were just played only once in the olympics"
   ]
  },
  {
   "cell_type": "code",
   "execution_count": 145,
   "id": "48f6e738",
   "metadata": {},
   "outputs": [
    {
     "name": "stdout",
     "output_type": "stream",
     "text": [
      "[('Aeronautics', 1, '1936 Summer'), ('Basque Pelota', 1, '1900 Summer'), ('Cricket', 1, '1900 Summer'), ('Croquet', 1, '1900 Summer'), ('Jeu De Paume', 1, '1908 Summer'), ('Military Ski Patrol', 1, '1924 Winter'), ('Motorboating', 1, '1908 Summer'), ('Racquets', 1, '1908 Summer'), ('Roque', 1, '1904 Summer'), ('Rugby Sevens', 1, '2016 Summer')]\n"
     ]
    }
   ],
   "source": [
    "cursor.execute('''with t1 as\n",
    "          (select distinct games, sport\n",
    "          from athlete_events),\n",
    "          t2 as\n",
    "          (select sport, count(1) as no_of_games\n",
    "          from t1\n",
    "          group by sport)\n",
    "      select t2.*, t1.games\n",
    "      from t2\n",
    "      join t1 on t1.sport = t2.sport\n",
    "      where t2.no_of_games = 1\n",
    "      order by t1.sport\n",
    ";\n",
    "''')\n",
    "data = cursor.fetchall()\n",
    "\n",
    "print(data)"
   ]
  },
  {
   "cell_type": "code",
   "execution_count": 146,
   "id": "e77d0857",
   "metadata": {},
   "outputs": [],
   "source": [
    "# Fetch the total no of sports played in each olympic games"
   ]
  },
  {
   "cell_type": "code",
   "execution_count": 147,
   "id": "712f6ab7",
   "metadata": {},
   "outputs": [
    {
     "name": "stdout",
     "output_type": "stream",
     "text": [
      "[('2000 Summer', 34), ('2004 Summer', 34), ('2008 Summer', 34), ('2016 Summer', 34), ('2012 Summer', 32), ('1996 Summer', 31), ('1992 Summer', 29), ('1988 Summer', 27), ('1920 Summer', 25), ('1984 Summer', 25), ('1908 Summer', 24), ('1936 Summer', 24), ('1972 Summer', 23), ('1976 Summer', 23), ('1980 Summer', 23), ('1964 Summer', 21), ('1900 Summer', 20), ('1924 Summer', 20), ('1948 Summer', 20), ('1968 Summer', 20), ('1952 Summer', 19), ('1956 Summer', 19), ('1960 Summer', 19), ('1904 Summer', 18), ('1932 Summer', 18), ('1912 Summer', 17), ('1928 Summer', 17), ('2002 Winter', 15), ('2006 Winter', 15), ('2010 Winter', 15), ('2014 Winter', 15), ('1998 Winter', 14), ('1906 Summer', 13), ('1992 Winter', 12), ('1994 Winter', 12), ('1924 Winter', 10), ('1964 Winter', 10), ('1968 Winter', 10), ('1972 Winter', 10), ('1976 Winter', 10), ('1980 Winter', 10), ('1984 Winter', 10), ('1988 Winter', 10), ('1896 Summer', 9), ('1948 Winter', 9), ('1928 Winter', 8), ('1936 Winter', 8), ('1952 Winter', 8), ('1956 Winter', 8), ('1960 Winter', 8), ('1932 Winter', 7)]\n"
     ]
    }
   ],
   "source": [
    "cursor.execute('''  with t1 as\n",
    "      (select distinct games, sport\n",
    "      from athlete_events),\n",
    "        t2 as\n",
    "      (select games, count(1) as no_of_sports\n",
    "      from t1\n",
    "      group by games)\n",
    "      select * from t2\n",
    "      order by no_of_sports desc;\n",
    "''')\n",
    "data = cursor.fetchall()\n",
    "\n",
    "print(data)"
   ]
  },
  {
   "cell_type": "code",
   "execution_count": 148,
   "id": "dcfa726d",
   "metadata": {},
   "outputs": [],
   "source": [
    "# Fetch oldest athletes to win a gold medal"
   ]
  },
  {
   "cell_type": "code",
   "execution_count": 149,
   "id": "ecac39e7",
   "metadata": {},
   "outputs": [
    {
     "name": "stdout",
     "output_type": "stream",
     "text": [
      "[('Charles Jacobus', 'M', 64, 'United States', '1904 Summer', 'St. Louis', 'Roque', \"Roque Men's Singles\", 'Gold', 1), ('Oscar Gomer Swahn', 'M', 64, 'Sweden', '1912 Summer', 'Stockholm', 'Shooting', \"Shooting Men's Running Target, Single Shot, Team\", 'Gold', 1), ('Charles Jacobus', 'M', 64, 'United States', '1904 Summer', 'St. Louis', 'Roque', \"Roque Men's Singles\", 'Gold', 1), ('Oscar Gomer Swahn', 'M', 64, 'Sweden', '1912 Summer', 'Stockholm', 'Shooting', \"Shooting Men's Running Target, Single Shot, Team\", 'Gold', 1)]\n"
     ]
    }
   ],
   "source": [
    "cursor.execute('''with temp as\n",
    "            (select name,sex,cast(case when age = 'NA' then '0' else age end as int) as age\n",
    "              ,team,games,city,sport, event, medal\n",
    "            from athlete_events),\n",
    "        ranking as\n",
    "            (select *, rank() over(order by age desc) as rnk\n",
    "            from temp\n",
    "            where medal='Gold')\n",
    "    select *\n",
    "    from ranking\n",
    "    where rnk = 1\n",
    "''')\n",
    "data = cursor.fetchall()\n",
    "\n",
    "print(data)"
   ]
  },
  {
   "cell_type": "code",
   "execution_count": null,
   "id": "e743a6fc",
   "metadata": {},
   "outputs": [],
   "source": []
  }
 ],
 "metadata": {
  "kernelspec": {
   "display_name": "Python 3 (ipykernel)",
   "language": "python",
   "name": "python3"
  },
  "language_info": {
   "codemirror_mode": {
    "name": "ipython",
    "version": 3
   },
   "file_extension": ".py",
   "mimetype": "text/x-python",
   "name": "python",
   "nbconvert_exporter": "python",
   "pygments_lexer": "ipython3",
   "version": "3.10.9"
  }
 },
 "nbformat": 4,
 "nbformat_minor": 5
}
